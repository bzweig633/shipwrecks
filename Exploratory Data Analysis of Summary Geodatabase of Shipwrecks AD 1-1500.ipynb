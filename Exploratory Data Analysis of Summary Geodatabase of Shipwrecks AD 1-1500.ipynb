{
 "cells": [
  {
   "cell_type": "markdown",
   "id": "bc39e3ef",
   "metadata": {},
   "source": [
    "# <span style=\"font-family: Arial;\"> An Exploratory Data Analysis of Shipwrecks from Antiquity through the 15th century. </span>\n",
    "\n"
   ]
  },
  {
   "cell_type": "markdown",
   "id": "5bbc24a7",
   "metadata": {},
   "source": [
    "### This is a quick and dirty exploration of data from the _Summary Geodatabase of Shipwrecks AD 1-1500, Status 2008_, available on Harvard University's Dataverse, using Geopandas and Plotly Express to explore and render the geographic information wthin the dataset.\n",
    "\n",
    "Dataset: McCormick, Michael; Ataoguz, J. Kirsten; Gibson, Kelly L.; Grigoli, Leland; Maione-Downing, Brendan; More, Alexander M.; Reich, Robin; Turnator, Ece; Wang, Julia, 2013, \"Summary Geodatabase of Shipwrecks AD 1-1500, Status 2008\", https://doi.org/10.7910/DVN/ZIQPDG, Harvard Dataverse, V2\n"
   ]
  },
  {
   "cell_type": "code",
   "execution_count": null,
   "id": "2f5e18a5",
   "metadata": {},
   "outputs": [],
   "source": [
    "#import pandas and geopandas for the duration\n",
    "import pandas as pd\n",
    "import geopandas as gpd"
   ]
  },
  {
   "cell_type": "code",
   "execution_count": null,
   "id": "dbb1ac89",
   "metadata": {},
   "outputs": [],
   "source": [
    "# load data, create dataframe, and see first five rows\n",
    "df = pd.read_csv('Shipwrecks.csv')\n",
    "df.head()"
   ]
  },
  {
   "cell_type": "code",
   "execution_count": null,
   "id": "a2b123a4",
   "metadata": {},
   "outputs": [],
   "source": [
    "# Drop two columns that immediately have no value\n",
    "df = df.drop(['Name 2', 'Depth Q'], axis=1)"
   ]
  },
  {
   "cell_type": "code",
   "execution_count": null,
   "id": "f14bab38",
   "metadata": {
    "scrolled": true
   },
   "outputs": [],
   "source": [
    "# Create new dataframe from selected columns\n",
    "df = df[['Name', '2008 Wreck ID', 'Latitude', 'Longitude', 'Start Date', 'End Date', 'Year Found', 'Cargo 1', 'Type 1', 'Cargo 2', 'Type 2', 'Comments']]"
   ]
  },
  {
   "cell_type": "code",
   "execution_count": null,
   "id": "7c3904d2",
   "metadata": {},
   "outputs": [],
   "source": [
    "# Fill NaN values to 0. Not ideal, but need quick fix. \n",
    "df = df.fillna(0)"
   ]
  },
  {
   "cell_type": "code",
   "execution_count": null,
   "id": "dcf12870",
   "metadata": {},
   "outputs": [],
   "source": [
    "# Transform dataframe to geodataframe.\n",
    "gdf = gpd.GeoDataFrame(df, geometry=gpd.points_from_xy(df.Longitude, df.Latitude))\n",
    "# Check out what it looks like.\n",
    "gdf"
   ]
  },
  {
   "cell_type": "code",
   "execution_count": null,
   "id": "457839d9",
   "metadata": {},
   "outputs": [],
   "source": [
    "# Import plotly express library and mapbox to render map.\n",
    "import plotly.express as px\n",
    "px.set_mapbox_access_token(open('access.mapbox_token').read())\n",
    "gdf['size'] = 1\n",
    "\n",
    "# What I want to see in the map.\n",
    "fig = px.scatter_mapbox(gdf, \n",
    "                  lat=gdf.geometry.y,\n",
    "                  lon=gdf.geometry.x,\n",
    "                  hover_name='Name',\n",
    "                  color='Start Date',\n",
    "                  hover_data=['Cargo 1', 'Type 1', 'Cargo 2', 'Type 2', 'Comments', 'Start Date', 'End Date'],\n",
    "                  mapbox_style='dark',\n",
    "                  size='size',\n",
    "                  size_max=8,      \n",
    "                  zoom=1)\n",
    "# Make map. \n",
    "fig.show()"
   ]
  },
  {
   "cell_type": "markdown",
   "id": "885c1715",
   "metadata": {},
   "source": [
    "### The dataset indicates that the timeframe is 1-1500 AD, but the rendered legend on that map has negative values, which should not be the case. "
   ]
  },
  {
   "cell_type": "code",
   "execution_count": null,
   "id": "cf4779f9",
   "metadata": {},
   "outputs": [],
   "source": [
    "#Taking another look at the dates\n",
    "gdf"
   ]
  },
  {
   "cell_type": "code",
   "execution_count": null,
   "id": "9b5b7378",
   "metadata": {},
   "outputs": [],
   "source": [
    "gdf1 = gdf['Start Date']"
   ]
  },
  {
   "cell_type": "code",
   "execution_count": null,
   "id": "75e56cf5",
   "metadata": {},
   "outputs": [],
   "source": [
    "gdf2 = gdf1.sort_values(ascending=True)\n",
    "gdf2"
   ]
  },
  {
   "cell_type": "markdown",
   "id": "02af64a7",
   "metadata": {},
   "source": [
    "### Ok, seems to be correct and that some BCE dates are in the dataset. Now out of curiosity let's look at the cargo by goupings and frequency."
   ]
  },
  {
   "cell_type": "code",
   "execution_count": null,
   "id": "c6ccfbdc",
   "metadata": {},
   "outputs": [],
   "source": [
    "cargo = gdf[['Cargo 1', 'Cargo 2']]"
   ]
  },
  {
   "cell_type": "code",
   "execution_count": null,
   "id": "deae282e",
   "metadata": {},
   "outputs": [],
   "source": [
    "cargo = cargo['Cargo 1'].value_counts()\n",
    "cargo"
   ]
  },
  {
   "cell_type": "code",
   "execution_count": null,
   "id": "2d171bcd",
   "metadata": {},
   "outputs": [],
   "source": [
    "#Drop second row since it is 0\n",
    "cargo.drop(0, inplace=True)"
   ]
  },
  {
   "cell_type": "code",
   "execution_count": null,
   "id": "7835843a",
   "metadata": {},
   "outputs": [],
   "source": [
    "cargo.plot.bar();"
   ]
  },
  {
   "cell_type": "markdown",
   "id": "e0bd3f7b",
   "metadata": {},
   "source": [
    "### All in all, an interesting first-pass with geopandas and plotly express. The dataset is a challenge to work with becuase of its incompleteness and the variety of data, which is hard to render programmatically without a lot of substantial effort. But this is the case that all historical datasets will have. So to understand how to work within their limitations, and understand this as a morphological approximation of the dataset itself, is important.   "
   ]
  }
 ],
 "metadata": {
  "kernelspec": {
   "display_name": "Python 3 (ipykernel)",
   "language": "python",
   "name": "python3"
  },
  "language_info": {
   "codemirror_mode": {
    "name": "ipython",
    "version": 3
   },
   "file_extension": ".py",
   "mimetype": "text/x-python",
   "name": "python",
   "nbconvert_exporter": "python",
   "pygments_lexer": "ipython3",
   "version": "3.9.13"
  }
 },
 "nbformat": 4,
 "nbformat_minor": 5
}
